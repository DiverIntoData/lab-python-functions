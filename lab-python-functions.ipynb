{
  "cells": [
    {
      "cell_type": "markdown",
      "id": "25d7736c-ba17-4aff-b6bb-66eba20fbf4e",
      "metadata": {
        "id": "25d7736c-ba17-4aff-b6bb-66eba20fbf4e"
      },
      "source": [
        "# Lab | Functions"
      ]
    },
    {
      "cell_type": "markdown",
      "id": "0c581062-8967-4d93-b06e-62833222f930",
      "metadata": {
        "tags": [],
        "id": "0c581062-8967-4d93-b06e-62833222f930"
      },
      "source": [
        "## Exercise: Managing Customer Orders with Functions\n",
        "\n",
        "In the previous exercise, you improved the code for managing customer orders by using loops and flow control. Now, let's take it a step further and refactor the code by introducing functions.\n",
        "\n",
        "Follow the steps below to complete the exercise:\n",
        "\n",
        "1. Define a function named `initialize_inventory` that takes `products` as a parameter. Inside the function, implement the code for initializing the inventory dictionary using a loop and user input.\n",
        "\n",
        "2. Define a function named `get_customer_orders` that takes no parameters. Inside the function, implement the code for prompting the user to enter the product names using a loop. The function should return the `customer_orders` set.\n",
        "\n",
        "3. Define a function named `update_inventory` that takes `customer_orders` and `inventory` as parameters. Inside the function, implement the code for updating the inventory dictionary based on the customer orders.\n",
        "\n",
        "4. Define a function named `calculate_order_statistics` that takes `customer_orders` and `products` as parameters. Inside the function, implement the code for calculating the order statistics (total products ordered, and percentage of unique products ordered). The function should return these values.\n",
        "\n",
        "5. Define a function named `print_order_statistics` that takes `order_statistics` as a parameter. Inside the function, implement the code for printing the order statistics.\n",
        "\n",
        "6. Define a function named `print_updated_inventory` that takes `inventory` as a parameter. Inside the function, implement the code for printing the updated inventory.\n",
        "\n",
        "7. Call the functions in the appropriate sequence to execute the program and manage customer orders.\n",
        "\n",
        "Hints for functions:\n",
        "\n",
        "- Consider the input parameters required for each function and their return values.\n",
        "- Utilize function parameters and return values to transfer data between functions.\n",
        "- Test your functions individually to ensure they work correctly.\n",
        "\n",
        "\n"
      ]
    },
    {
      "cell_type": "markdown",
      "source": [
        "# Lab 2 code"
      ],
      "metadata": {
        "id": "MEMGNLHSe0ZF"
      },
      "id": "MEMGNLHSe0ZF"
    },
    {
      "cell_type": "code",
      "source": [
        "# Create a product list and inventory dictionary\n",
        "products = [\"t-shirt\", \"mug\", \"hat\", \"book\", \"keychain\"]\n",
        "inventory = {}\n",
        "\n",
        "# Populate the QTY inventory of each product\n",
        "for i in products:\n",
        "  quantity = int(input(f\"How many units in inventory of {i}: \"))\n",
        "  inventory[i] = quantity\n",
        "\n",
        "# Create a set to have the customer order\n",
        "customer_orders = set()\n",
        "\n",
        "# Ask if wants to order anything\n",
        "order_more = input(\"Do you want to order anything? yes/no \")\n",
        "# Variable to know how many items they are ordering\n",
        "n_product_ordered = 1\n",
        "\n",
        "# Make sure customer rights yes or no\n",
        "while (order_more != \"yes\") and (order_more != \"no\"):\n",
        "  order_more = input(\"Invalid entry. Do you want to order anything? yes/no \")\n",
        "\n",
        "# While answer is yes, keep asking which item to order\n",
        "while order_more == \"yes\":\n",
        "  order = {input(f\"For product {n_product_ordered}, what do you want to order? \")}\n",
        "  n_product_ordered += 1\n",
        "  customer_orders |= order\n",
        "  order_more = input(\"Do you want to order anything else? yes/no \")\n",
        "\n",
        "  # Print the customer order\n",
        "for i in customer_orders:\n",
        "  print(i)\n",
        "\n",
        "# Print info about the order and % ordered of the total inventory\n",
        "print(f\"Customer ordered {len(customer_orders)} units\")\n",
        "print(f\"Percentage of products ordered is {len(customer_orders)/sum(inventory.values())}\")\n",
        "\n",
        "percent_ord_inv = \"{:.2%}\".format(len(customer_orders)/sum(inventory.values()))\n",
        "print(f\"Total Products Ordered: {len(customer_orders)}\")\n",
        "print(f\"Percentage of Products Ordered: {percent_ord_inv}\")\n",
        "\n",
        "# Reduce QTY of the inventory\n",
        "customer_orders_list = list(customer_orders)\n",
        "for i in customer_orders_list:\n",
        "  try:\n",
        "    inventory[i] = inventory[i] - 1\n",
        "  except:\n",
        "    pass\n",
        "\n",
        "# Print remaining inventory\n",
        "for i in inventory.keys():\n",
        "  print(f\"Inventory of {i} is: {inventory[i]}\")"
      ],
      "metadata": {
        "colab": {
          "base_uri": "https://localhost:8080/"
        },
        "id": "rD84WV-Mer7R",
        "outputId": "ce7a4d7b-9014-4fca-e2cf-02a731318128"
      },
      "id": "rD84WV-Mer7R",
      "execution_count": 1,
      "outputs": [
        {
          "output_type": "stream",
          "name": "stdout",
          "text": [
            "How many units in inventory of t-shirt: 10\n",
            "How many units in inventory of mug: 10\n",
            "How many units in inventory of hat: 10\n",
            "How many units in inventory of book: 10\n",
            "How many units in inventory of keychain: 10\n",
            "Do you want to order anything? yes/no yes\n",
            "For product 1, what do you want to order? hat\n",
            "Do you want to order anything else? yes/no yes\n",
            "For product 2, what do you want to order? book\n",
            "Do you want to order anything else? yes/no no\n",
            "book\n",
            "hat\n",
            "Customer ordered 2 units\n",
            "Percentage of products ordered is 0.04\n",
            "Total Products Ordered: 2\n",
            "Percentage of Products Ordered: 4.00%\n",
            "Inventory of t-shirt is: 10\n",
            "Inventory of mug is: 10\n",
            "Inventory of hat is: 9\n",
            "Inventory of book is: 9\n",
            "Inventory of keychain is: 10\n"
          ]
        }
      ]
    },
    {
      "cell_type": "markdown",
      "source": [
        "# Answers"
      ],
      "metadata": {
        "id": "mcHrzOJ-d-x9"
      },
      "id": "mcHrzOJ-d-x9"
    },
    {
      "cell_type": "markdown",
      "source": [
        "1. Define a function named initialize_inventory that takes products as a parameter. Inside the function, implement the code for initializing the inventory dictionary using a loop and user input."
      ],
      "metadata": {
        "id": "6w-rOcGFd8Z4"
      },
      "id": "6w-rOcGFd8Z4"
    },
    {
      "cell_type": "code",
      "source": [
        "def initialize_inventory(products):\n",
        "  # Populate the QTY inventory of each product\n",
        "  inventory = {} # Remove the previous inventory\n",
        "  for i in products:\n",
        "    quantity = int(input(f\"How many units in inventory of {i}: \"))\n",
        "    inventory[i] = quantity\n",
        "  return inventory\n",
        "\n",
        "inventory = initialize_inventory(products)\n"
      ],
      "metadata": {
        "colab": {
          "base_uri": "https://localhost:8080/"
        },
        "id": "gQ4CxLM7d8TT",
        "outputId": "f9d16a67-b83e-42d0-d15f-e9a37dfffbe5"
      },
      "id": "gQ4CxLM7d8TT",
      "execution_count": 3,
      "outputs": [
        {
          "name": "stdout",
          "output_type": "stream",
          "text": [
            "How many units in inventory of t-shirt: 10\n",
            "How many units in inventory of mug: 10\n",
            "How many units in inventory of hat: 10\n",
            "How many units in inventory of book: 10\n",
            "How many units in inventory of keychain: 10\n"
          ]
        }
      ]
    },
    {
      "cell_type": "markdown",
      "source": [
        "2. Define a function named get_customer_orders that takes no parameters. Inside the function, implement the code for prompting the user to enter the product names using a loop. The function should return the customer_orders set."
      ],
      "metadata": {
        "id": "hBav3gWwd8L2"
      },
      "id": "hBav3gWwd8L2"
    },
    {
      "cell_type": "code",
      "source": [
        "def get_customer_orders():\n",
        "    customer_orders = set()  # Create an empty set for the customer orders\n",
        "    order_more = input(\"Do you want to order anything? yes/no \")  # Ask if the user wants to order\n",
        "\n",
        "    # Make sure customer enters 'yes' or 'no'\n",
        "    while order_more != \"yes\" and order_more != \"no\":\n",
        "        order_more = input(\"Invalid entry. Do you want to order anything? yes/no \")\n",
        "\n",
        "    # Variable to track number of items ordered\n",
        "    n_product_ordered = 1\n",
        "\n",
        "    # Continue to ask for orders while the answer is 'yes'\n",
        "    while order_more == \"yes\":\n",
        "        order = input(f\"For product {n_product_ordered}, what do you want to order? \")  # Get product name\n",
        "        n_product_ordered += 1\n",
        "        order_more = input(\"Do you want to order anything else? yes/no \")  # Ask if the user wants to order more\n",
        "        customer_orders.add(order)\n",
        "\n",
        "    return customer_orders\n",
        "\n",
        "customer_orders = get_customer_orders()  # Call the function to get customer orders\n",
        "\n",
        "customer_orders"
      ],
      "metadata": {
        "colab": {
          "base_uri": "https://localhost:8080/"
        },
        "id": "4B1pKZcbd8DS",
        "outputId": "58143d0a-fe66-4c17-e003-43f72c78dd50"
      },
      "id": "4B1pKZcbd8DS",
      "execution_count": 4,
      "outputs": [
        {
          "name": "stdout",
          "output_type": "stream",
          "text": [
            "Do you want to order anything? yes/no yes\n",
            "For product 1, what do you want to order? hat\n",
            "Do you want to order anything else? yes/no no\n"
          ]
        },
        {
          "output_type": "execute_result",
          "data": {
            "text/plain": [
              "{'hat'}"
            ]
          },
          "metadata": {},
          "execution_count": 4
        }
      ]
    },
    {
      "cell_type": "code",
      "source": [
        "print(customer_orders)"
      ],
      "metadata": {
        "colab": {
          "base_uri": "https://localhost:8080/"
        },
        "id": "A1cmXbzCtdQG",
        "outputId": "8c22ea65-12b3-4014-80c2-4cc92877ff8d"
      },
      "id": "A1cmXbzCtdQG",
      "execution_count": null,
      "outputs": [
        {
          "output_type": "stream",
          "name": "stdout",
          "text": [
            "{'hat'}\n"
          ]
        }
      ]
    },
    {
      "cell_type": "markdown",
      "source": [
        "3. Define a function named update_inventory that takes customer_orders and inventory as parameters. Inside the function, implement the code for updating the inventory dictionary based on the customer orders."
      ],
      "metadata": {
        "id": "7rIyIMuUd79I"
      },
      "id": "7rIyIMuUd79I"
    },
    {
      "cell_type": "code",
      "source": [
        "# Function to update the inventory\n",
        "def update_inventory(customer_orders, inventory):\n",
        "  # Convert customer_orders (set) to a list for operation\n",
        "  customer_orders_list = list(customer_orders)\n",
        "  # Reduce QTY of the inventory\n",
        "  for i in customer_orders_list:\n",
        "      inventory[i] = inventory[i] - 1\n",
        "  return inventory\n",
        "\n"
      ],
      "metadata": {
        "id": "yF8ac0R5d73E"
      },
      "id": "yF8ac0R5d73E",
      "execution_count": 5,
      "outputs": []
    },
    {
      "cell_type": "code",
      "source": [
        "update_inventory(customer_orders, inventory)"
      ],
      "metadata": {
        "colab": {
          "base_uri": "https://localhost:8080/"
        },
        "id": "flCQFzTaMj_X",
        "outputId": "41cfc087-c1e0-49db-910c-fb8e4cdf3d05"
      },
      "id": "flCQFzTaMj_X",
      "execution_count": 7,
      "outputs": [
        {
          "output_type": "execute_result",
          "data": {
            "text/plain": [
              "{'t-shirt': 10, 'mug': 10, 'hat': 8, 'book': 10, 'keychain': 10}"
            ]
          },
          "metadata": {},
          "execution_count": 7
        }
      ]
    },
    {
      "cell_type": "markdown",
      "source": [
        "4. Define a function named calculate_order_statistics that takes customer_orders and products as parameters. Inside the function, implement the code for calculating the order statistics (total products ordered, and percentage of unique products ordered). The function should return these values."
      ],
      "metadata": {
        "id": "01_ZsIxld7xy"
      },
      "id": "01_ZsIxld7xy"
    },
    {
      "cell_type": "code",
      "source": [
        "# Function to calculate statistics about the order\n",
        "\n",
        " ## Create an empty list to store the result\n",
        "order_statistics = []\n",
        "\n",
        "def calculate_order_statistics(customer_orders, products):\n",
        "  products_ordered = len(customer_orders)\n",
        "  percent_ord_inv = \"{:.2%}\".format(len(customer_orders)/sum(inventory.values()))\n",
        "  # Add the information to order_statistics\n",
        "  order_statistics.append(products_ordered)\n",
        "  order_statistics.append(percent_ord_inv)\n",
        "  return products_ordered, percent_ord_inv\n",
        "\n",
        "calculate_order_statistics(customer_orders, products)\n"
      ],
      "metadata": {
        "colab": {
          "base_uri": "https://localhost:8080/"
        },
        "id": "Ey0uRo23d7q9",
        "outputId": "e48dcd6d-e9e7-4d35-e58e-6f45ccc242c3"
      },
      "id": "Ey0uRo23d7q9",
      "execution_count": 8,
      "outputs": [
        {
          "output_type": "execute_result",
          "data": {
            "text/plain": [
              "(1, '2.08%')"
            ]
          },
          "metadata": {},
          "execution_count": 8
        }
      ]
    },
    {
      "cell_type": "markdown",
      "source": [
        "5. Define a function named print_order_statistics that takes order_statistics as a parameter. Inside the function, implement the code for printing the order statistics."
      ],
      "metadata": {
        "id": "oMt0rpXod7lP"
      },
      "id": "oMt0rpXod7lP"
    },
    {
      "cell_type": "code",
      "source": [
        "# Function to print the statistics of the order\n",
        "def print_order_statistics(order_statistics):\n",
        "  print(f\"\\nTotal Products Ordered: {order_statistics[0]}\")\n",
        "  print(f\"Percentage of Products Ordered: {order_statistics[1]}\\n\")\n",
        "\n",
        "print_order_statistics(order_statistics)\n"
      ],
      "metadata": {
        "colab": {
          "base_uri": "https://localhost:8080/"
        },
        "id": "Poiz5116d7ei",
        "outputId": "d4ff46c7-b216-43b5-807e-843aae5695b9"
      },
      "id": "Poiz5116d7ei",
      "execution_count": 9,
      "outputs": [
        {
          "output_type": "stream",
          "name": "stdout",
          "text": [
            "\n",
            "Total Products Ordered: 1\n",
            "Percentage of Products Ordered: 2.08%\n",
            "\n"
          ]
        }
      ]
    },
    {
      "cell_type": "markdown",
      "source": [
        "6. Define a function named print_updated_inventory that takes inventory as a parameter. Inside the function, implement the code for printing the updated inventory."
      ],
      "metadata": {
        "id": "15ne8xvxd7YP"
      },
      "id": "15ne8xvxd7YP"
    },
    {
      "cell_type": "code",
      "source": [
        "def print_updated_inventor(inventory):\n",
        "  for i in inventory.keys():\n",
        "    print(f\"Inventory of {i} is: {inventory[i]}\")\n",
        "\n",
        "print_updated_inventor(inventory)"
      ],
      "metadata": {
        "colab": {
          "base_uri": "https://localhost:8080/"
        },
        "id": "ss2SQwXgd7Sb",
        "outputId": "7607e737-efcc-4387-e0e7-29d2502faeb5"
      },
      "id": "ss2SQwXgd7Sb",
      "execution_count": 10,
      "outputs": [
        {
          "output_type": "stream",
          "name": "stdout",
          "text": [
            "Inventory of t-shirt is: 10\n",
            "Inventory of mug is: 10\n",
            "Inventory of hat is: 8\n",
            "Inventory of book is: 10\n",
            "Inventory of keychain is: 10\n"
          ]
        }
      ]
    },
    {
      "cell_type": "markdown",
      "source": [
        "7. Call the functions in the appropriate sequence to execute the program and manage customer orders."
      ],
      "metadata": {
        "id": "wtYk5Tfpd7K5"
      },
      "id": "wtYk5Tfpd7K5"
    },
    {
      "cell_type": "code",
      "source": [
        "# Create a product list and inventory dictionary\n",
        "products = [\"t-shirt\", \"mug\", \"hat\", \"book\", \"keychain\"]\n",
        "inventory = {}\n",
        "\n",
        "def initialize_inventory(products):\n",
        "  # Populate the QTY inventory of each product\n",
        "  inventory = {} # Remove the previous inventory\n",
        "  for i in products:\n",
        "    quantity = int(input(f\"How many units in inventory of {i}: \"))\n",
        "    inventory[i] = quantity\n",
        "  return inventory\n",
        "\n",
        "inventory = initialize_inventory(products)\n",
        "\n",
        "def get_customer_orders():\n",
        "    customer_orders = set()  # Create an empty set for the customer orders\n",
        "    order_more = input(\"Do you want to order anything? yes/no \")  # Ask if the user wants to order\n",
        "\n",
        "    # Make sure customer enters 'yes' or 'no'\n",
        "    while order_more != \"yes\" and order_more != \"no\":\n",
        "        order_more = input(\"Invalid entry. Do you want to order anything? yes/no \")\n",
        "\n",
        "    # Variable to track number of items ordered\n",
        "    n_product_ordered = 1\n",
        "\n",
        "    # Continue to ask for orders while the answer is 'yes'\n",
        "    while order_more == \"yes\":\n",
        "        order = input(f\"For product {n_product_ordered}, what do you want to order? \")  # Get product name\n",
        "        n_product_ordered += 1\n",
        "        order_more = input(\"Do you want to order anything else? yes/no \")  # Ask if the user wants to order more\n",
        "        customer_orders.add(order)\n",
        "\n",
        "    return customer_orders\n",
        "\n",
        "customer_orders = get_customer_orders()  # Call the function to get customer orders\n",
        "\n",
        "customer_orders\n",
        "\n",
        "\n",
        "# Function to update the inventory\n",
        "def update_inventory(customer_orders, inventory):\n",
        "  # Convert customer_orders (set) to a list for operation\n",
        "  customer_orders_list = list(customer_orders)\n",
        "  # Reduce QTY of the inventory\n",
        "  for i in customer_orders_list:\n",
        "      inventory[i] = inventory[i] - 1\n",
        "  return inventory\n",
        "\n",
        "update_inventory(customer_orders, inventory)\n",
        "\n",
        "\n",
        "# Function to calculate statistics about the order\n",
        "\n",
        " ## Create an empty list to store the result\n",
        "order_statistics = []\n",
        "\n",
        "def calculate_order_statistics(customer_orders, products):\n",
        "  products_ordered = len(customer_orders)\n",
        "  percent_ord_inv = \"{:.2%}\".format(len(customer_orders)/sum(inventory.values()))\n",
        "  # Add the information to order_statistics\n",
        "  order_statistics.append(products_ordered)\n",
        "  order_statistics.append(percent_ord_inv)\n",
        "  return products_ordered, percent_ord_inv\n",
        "\n",
        "calculate_order_statistics(customer_orders, products)\n",
        "\n",
        "\n",
        "# Function to print the statistics of the order\n",
        "def print_order_statistics(order_statistics):\n",
        "  print(f\"\\nTotal Products Ordered: {order_statistics[0]}\")\n",
        "  print(f\"Percentage of Products Ordered: {order_statistics[1]}\\n\")\n",
        "\n",
        "print_order_statistics(order_statistics)\n",
        "\n",
        "\n",
        "def print_updated_inventor(inventory):\n",
        "  for i in inventory.keys():\n",
        "    print(f\"Inventory of {i} is: {inventory[i]}\")\n",
        "\n",
        "print_updated_inventor(inventory)\n"
      ],
      "metadata": {
        "colab": {
          "base_uri": "https://localhost:8080/"
        },
        "id": "x-axWrz7d6Yq",
        "outputId": "a93ef392-39bc-4f96-ab4a-2233648ea8a3"
      },
      "id": "x-axWrz7d6Yq",
      "execution_count": 16,
      "outputs": [
        {
          "output_type": "stream",
          "name": "stdout",
          "text": [
            "How many units in inventory of t-shirt: 10\n",
            "How many units in inventory of mug: 10\n",
            "How many units in inventory of hat: 10\n",
            "How many units in inventory of book: 10\n",
            "How many units in inventory of keychain: 10\n",
            "Do you want to order anything? yes/no yes\n",
            "For product 1, what do you want to order? hat\n",
            "Do you want to order anything else? yes/no no\n",
            "\n",
            "Total Products Ordered: 1\n",
            "Percentage of Products Ordered: 2.04%\n",
            "\n",
            "Inventory of t-shirt is: 10\n",
            "Inventory of mug is: 10\n",
            "Inventory of hat is: 9\n",
            "Inventory of book is: 10\n",
            "Inventory of keychain is: 10\n"
          ]
        }
      ]
    }
  ],
  "metadata": {
    "kernelspec": {
      "display_name": "Python 3 (ipykernel)",
      "language": "python",
      "name": "python3"
    },
    "language_info": {
      "codemirror_mode": {
        "name": "ipython",
        "version": 3
      },
      "file_extension": ".py",
      "mimetype": "text/x-python",
      "name": "python",
      "nbconvert_exporter": "python",
      "pygments_lexer": "ipython3",
      "version": "3.9.13"
    },
    "colab": {
      "provenance": []
    }
  },
  "nbformat": 4,
  "nbformat_minor": 5
}